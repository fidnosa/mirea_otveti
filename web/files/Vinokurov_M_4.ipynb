{
  "cells": [
    {
      "cell_type": "code",
      "metadata": {
        "jukit_cell_id": "SM0BjMOSep"
      },
      "source": [],
      "outputs": [],
      "execution_count": null
    },
    {
      "cell_type": "markdown",
      "metadata": {
        "jukit_cell_id": "yGaJyJG1hK"
      },
      "source": [
        "# \u0417\u0430\u0434\u0430\u043d\u0438\u0435 \u043a \u043f\u0440\u0438\u043c\u0435\u0440\u0443 1.1.4\n",
        "\u041f\u0440\u0435\u0434\u0441\u0442\u0430\u0432\u044c\u0442\u0435 \u0441\u043e\u0431\u0441\u0442\u0432\u0435\u043d\u043d\u044b\u0435 \u0434\u0430\u043d\u043d\u044b\u0435 \u0438 \u043f\u043e\u0441\u0442\u0440\u043e\u0439\u0442\u0435 \u044d\u043a\u0442\u0440\u0430\u043f\u043e\u043b\u044f\u0446\u0438\u044e \u043f\u043e\u043b\u0438\u043d\u043e\u043c\u0430\u043c\u0438\n",
        "\u043f\u0435\u0440\u0432\u043e\u0439, \u0432\u0442\u043e\u0440\u043e\u0439 \u0438 \u0442\u0440\u0435\u0442\u044c\u0435\u0439 \u0441\u0442\u0435\u043f\u0435\u043d\u0438."
      ]
    },
    {
      "cell_type": "markdown",
      "metadata": {
        "jukit_cell_id": "NlRZ6FsFMk"
      },
      "source": [
        "## \u041f\u0435\u0440\u0432\u0430\u044f \u0441\u0442\u0435\u043f\u0435\u043d\u044c"
      ]
    },
    {
      "cell_type": "code",
      "metadata": {
        "jukit_cell_id": "kvKvZQcoBC"
      },
      "source": [
        "import numpy as np\n",
        "import matplotlib.pyplot as plt\n",
        "\n",
        "x = np.arange(0,4)\n",
        "y = np.random.random((4,1))\n",
        "\n",
        "A = np.vstack([x, np.ones(len(x))]).T\n",
        "\n",
        "m, c = np.linalg.lstsq(A, y, rcond= None)[0]\n",
        "print(m, c)\n",
        "\n",
        "plt.plot(x, y, 'o', label='initial data', markersize=10)\n",
        "plt.plot(x, m*x + c, 'r', label='linear extrapolation')\n",
        "plt.legend()\n",
        "plt.show()"
      ],
      "outputs": [],
      "execution_count": null
    },
    {
      "cell_type": "markdown",
      "metadata": {
        "jukit_cell_id": "egY5ewKuKL"
      },
      "source": [
        "## \u0412\u0442\u043e\u0440\u0430\u044f \u0441\u0442\u0435\u043f\u0435\u043d\u044c"
      ]
    },
    {
      "cell_type": "code",
      "metadata": {
        "jukit_cell_id": "b6hkoVzpdQ"
      },
      "source": [
        "import numpy as np\n",
        "import matplotlib.pyplot as plt\n",
        "\n",
        "delta = 1.0\n",
        "x = np.linspace(-5,5,11)\n",
        "y = x**2+delta*(np.random.rand(11)-0.5)\n",
        "x += delta*(np.random.rand(11)-0.5)\n",
        "\n",
        "x.tofile('x_data.txt','\\n')\n",
        "y.tofile('y_data.txt','\\n')\n",
        "\n",
        "x = np.fromfile('x_data.txt', float, sep='\\n')\n",
        "y = np.fromfile('y_data.txt', float, sep='\\n')\n",
        "\n",
        "m = np.vstack((x**2, x, np.ones(11))).T\n",
        "\n",
        "s = np.linalg.lstsq(m, y, rcond = None)[0]\n",
        "\n",
        "x_prec = np.linspace(-5,5,101)\n",
        "plt.plot(x, y, 'D')\n",
        "plt.plot(x_prec, s[0] * x_prec**2 +  s[1] * x_prec + s[2], '-', lw=2)\n",
        "plt.grid()\n",
        "plt.savefig('parabola.png')"
      ],
      "outputs": [],
      "execution_count": null
    },
    {
      "cell_type": "markdown",
      "metadata": {
        "jukit_cell_id": "FAqLzlOztL"
      },
      "source": [
        "## \u0422\u0440\u0435\u0442\u044c\u044f \u0441\u0442\u0435\u043f\u0435\u043d\u044c"
      ]
    },
    {
      "cell_type": "code",
      "metadata": {
        "jukit_cell_id": "QyS8yVhntK"
      },
      "source": [
        "x = np.fromfile('x_data.txt', float, sep='\\n')\n",
        "y = np.fromfile('y_data.txt', float, sep='\\n')\n",
        "\n",
        "m = np.vstack((x**3, x**2, x, np.ones(11))).T\n",
        "\n",
        "s = np.linalg.lstsq(m, y, rcond = None)[0]\n",
        "\n",
        "x_prec = np.linspace(-5,5,101)\n",
        "plt.plot(x, y, 'D')\n",
        "plt.plot(x_prec, s[0] * x_prec**3 + s[1] * x_prec**2 +  s[2] * x_prec + s[3], '-', lw=3)\n",
        "plt.grid()\n",
        "plt.savefig('cubic.png')"
      ],
      "outputs": [],
      "execution_count": null
    },
    {
      "cell_type": "markdown",
      "metadata": {
        "jukit_cell_id": "jBr37bj0Im"
      },
      "source": [
        "# \u041b\u0438\u043d\u0435\u0439\u043d\u0430\u044f \u0440\u0435\u0433\u0440\u0435\u0441\u0441\u0438\u044f\n",
        "# \u0417\u0430\u0434\u0430\u043d\u0438\u0435 1.2.2"
      ]
    },
    {
      "cell_type": "code",
      "metadata": {
        "jukit_cell_id": "h1ESWn7MWu"
      },
      "source": [
        "import pandas as pd\n",
        "import numpy as np\n",
        "import matplotlib.pyplot as plt\n",
        "from pandas import DataFrame,Series\n",
        "from sklearn.model_selection import train_test_split\n",
        "from sklearn.linear_model import LinearRegression\n",
        "\n",
        "url = 'https://raw.githubusercontent.com/AnnaShestova/salary-years-simple-linear-regression/master/Salary_Data.csv'\n",
        "dataset = pd.DataFrame()\n",
        "dataset = pd.read_csv(url)\n",
        "\n",
        "plt.scatter(dataset['YearsExperience'], dataset['Salary'], color='b', label = '\u0414\u0430\u043d\u043d\u044b\u0435 \u043e\u043f\u0440\u043e\u0441\u0430')\n",
        "plt.xlabel('\u0427\u0430\u0441\u044b')\n",
        "plt.ylabel('\u041e\u0446\u0435\u043d\u043a\u0430')\n",
        "plt.show()\n",
        "\n",
        "X = dataset.iloc[:, :-1]\n",
        "y = dataset.iloc[:, 1]\n",
        "\n",
        "X_train, X_test, y_train, y_test = train_test_split(X, y, test_size=0.2, random_state=0)\n",
        "\n",
        "regressor = LinearRegression()\n",
        "regressor.fit(X_train, y_train)\n",
        "\n",
        "y_pred = regressor.predict(X_test)\n",
        "df = DataFrame({'Actual': y_test, 'Predicted': y_pred})\n",
        "\n",
        "df.plot(kind='bar')\n",
        "plt.grid(which='major', linestyle='-', linewidth='0.5', color='green')\n",
        "plt.grid(which='minor', linestyle=':', linewidth='0.5', color='black')\n",
        "plt.show()\n",
        "\n",
        "plt.scatter(X_test, y_test, color='gray')\n",
        "plt.plot(X_test, y_pred, color='red', linewidth=2)\n",
        "plt.show()"
      ],
      "outputs": [],
      "execution_count": null
    },
    {
      "cell_type": "markdown",
      "metadata": {
        "jukit_cell_id": "NwX5L0NOiO"
      },
      "source": [
        "# \u0417\u0430\u0434\u0430\u043d\u0438\u0435 \u043a \u043f\u0440\u0438\u043c\u0435\u0440\u0443 1.1.4 \u0438 1.1.5\n",
        "\u041d\u0435\u043e\u0431\u0445\u043e\u0434\u0438\u043c\u043e \u043f\u0440\u043e\u0432\u0435\u0440\u0438\u0442\u044c \u0433\u0438\u043f\u043e\u0442\u0435\u0437\u0443, \u0447\u0442\u043e \u043d\u0430\u0448\u0438 \u0442\u043e\u0447\u0435\u0447\u043d\u043e \u0437\u0430\u0434\u0430\u043d\u043d\u0430\u044f \u0444\u0443\u043d\u043a\u0446\u0438\u044f \u043b\u043e\u0436\u0438\u0442\u0441\u044f\n",
        "\u043d\u0430 \u043a\u0440\u0438\u0432\u0443\u044e \u0432\u0438\u0434\u0430 \ud835\udc53(\ud835\udc65, \ud835\udc4f) = \ud835\udc4f0 + \ud835\udc4f1\ud835\udc52\ud835\udc65\ud835\udc5d(\u2212\ud835\udc4f2\ud835\udc652)"
      ]
    },
    {
      "cell_type": "code",
      "metadata": {
        "jukit_cell_id": "4BcrtxHDIN"
      },
      "source": [
        "beta = (0.25, 0.75, 0.5)\n",
        "def f(x, b0, b1, b2):\n",
        "    return b0 + b1 * np.exp(-b2*x**2)\n",
        "\n",
        "xdata = np.linspace(0,5,50)\n",
        "y = f(xdata, *beta)\n",
        "ydata = y + 0.05 * np.random.randn(len(xdata))\n",
        "\n",
        "from scipy.optimize import curve_fit\n",
        "beta_opt, beta_cov = curve_fit(f, xdata, ydata)\n",
        "print(beta_opt)\n",
        "\n",
        "lin_dev = sum(beta_cov[0])\n",
        "print(lin_dev)\n",
        "\n",
        "residuals = ydata - f(xdata, *beta_opt)\n",
        "fres = sum(residuals**2)\n",
        "print(fres)\n",
        "\n",
        "fig, ax = plt.subplots()\n",
        "ax.scatter(xdata, ydata)\n",
        "ax.plot(xdata, y, 'r', lw=2)\n",
        "ax.plot(xdata, f(xdata, *beta_opt), 'b', lw=2)\n",
        "ax.set_xlim(0,5)\n",
        "ax.set_xlabel(r'$x$', fontsize=18)\n",
        "ax.set_ylabel(r'$f(x, \\beta)$', fontsize=18)\n",
        "plt.show()"
      ],
      "outputs": [],
      "execution_count": null
    },
    {
      "cell_type": "markdown",
      "metadata": {
        "jukit_cell_id": "dyNokyNKjZ"
      },
      "source": [
        "\u041d\u0435\u043e\u0431\u0445\u043e\u0434\u0438\u043c\u043e \u043f\u0440\u043e\u0432\u0435\u0440\u0438\u0442\u044c \u0433\u0438\u043f\u043e\u0442\u0435\u0437\u0443, \u0447\u0442\u043e \u043d\u0430\u0448a \u0442\u043e\u0447\u0435\u0447\u043d\u043e \u0437\u0430\u0434\u0430\u043d\u043d\u0430\u044f \u0444\u0443\u043d\u043a\u0446\u0438\u044f \u043b\u043e\u0436\u0438\u0442\u0441\u044f\n",
        "\u043d\u0430 \u043a\u0440\u0438\u0432\u044b\u0435 \u0432\u0438\u0434\u0430:\n",
        "    1. $f(x,b) = b_0+b_1x$\n",
        "    2. $f(x,b) = b_0+b_1x+b_2x^2$\n",
        "    3. $f(x,b) = b_0+b_1\\ln(x)$\n",
        "    4. $f(x,b) = b_0x^{b_1}$ "
      ]
    },
    {
      "cell_type": "code",
      "metadata": {
        "jukit_cell_id": "0XaDlCn9Nt"
      },
      "source": [
        "# 1. $f(x,b) = b_0+b_1x$\n",
        "\n",
        "beta = (3.12, 0.34)\n",
        "def f(x, b0, b1):\n",
        "    return b0 + b1 * x\n",
        "\n",
        "xdata = np.linspace(0,5,50)\n",
        "y = f(xdata, *beta)\n",
        "ydata = y + 0.05 * np.random.randn(len(xdata))\n",
        "\n",
        "from scipy.optimize import curve_fit\n",
        "beta_opt, beta_cov = curve_fit(f, xdata, ydata)\n",
        "print(beta_opt)\n",
        "\n",
        "lin_dev = sum(beta_cov[0])\n",
        "print(lin_dev)\n",
        "\n",
        "residuals = ydata - f(xdata, *beta_opt)\n",
        "fres = sum(residuals**2)\n",
        "print(fres)\n",
        "\n",
        "fig, ax = plt.subplots()\n",
        "ax.scatter(xdata, ydata)\n",
        "ax.plot(xdata, y, 'r', lw=2)\n",
        "ax.plot(xdata, f(xdata, *beta_opt), 'b', lw=2)\n",
        "ax.set_xlim(0,5)\n",
        "ax.set_xlabel(r'$x$', fontsize=18)\n",
        "ax.set_ylabel(r'$f(x, \\beta)$', fontsize=18)\n",
        "plt.show()"
      ],
      "outputs": [],
      "execution_count": null
    },
    {
      "cell_type": "code",
      "metadata": {
        "jukit_cell_id": "6G1JaDOhxx"
      },
      "source": [
        "# 2. $f(x,b) = b_0+b_1x+b_2x^2$\n",
        "\n",
        "beta = (0.23, 43, 1.29)\n",
        "def f(x, b0, b1, b2):\n",
        "    return b0 + b1 * x + b2 * x**2\n",
        "\n",
        "xdata = np.linspace(0,5,50)\n",
        "y = f(xdata, *beta)\n",
        "ydata = y + 0.05 * np.random.randn(len(xdata))\n",
        "\n",
        "from scipy.optimize import curve_fit\n",
        "beta_opt, beta_cov = curve_fit(f, xdata, ydata)\n",
        "print(beta_opt)\n",
        "\n",
        "lin_dev = sum(beta_cov[0])\n",
        "print(lin_dev)\n",
        "\n",
        "residuals = ydata - f(xdata, *beta_opt)\n",
        "fres = sum(residuals**2)\n",
        "print(fres)\n",
        "\n",
        "fig, ax = plt.subplots()\n",
        "ax.scatter(xdata, ydata)\n",
        "ax.plot(xdata, y, 'r', lw=2)\n",
        "ax.plot(xdata, f(xdata, *beta_opt), 'b', lw=2)\n",
        "ax.set_xlim(0,5)\n",
        "ax.set_xlabel(r'$x$', fontsize=18)\n",
        "ax.set_ylabel(r'$f(x, \\beta)$', fontsize=18)\n",
        "plt.show()"
      ],
      "outputs": [],
      "execution_count": null
    },
    {
      "cell_type": "code",
      "metadata": {
        "jukit_cell_id": "T2DOshGLtA"
      },
      "source": [
        "# 3. $f(x,b) = b_0+b_1\\ln(x)$\n",
        "\n",
        "beta = (0.25, 0.75)\n",
        "\n",
        "def f(x, b0, b1):\n",
        "    return b0 + b1 * np.log(x)\n",
        "\n",
        "xdata = np.linspace(0.01,5,50)\n",
        "y = f(xdata, *beta)\n",
        "ydata = y + 0.05 * np.random.randn(len(xdata))\n",
        "\n",
        "from scipy.optimize import curve_fit\n",
        "beta_opt, beta_cov = curve_fit(f, xdata, ydata)\n",
        "print(beta_opt)\n",
        "\n",
        "lin_dev = sum(beta_cov[0])\n",
        "print(lin_dev)\n",
        "\n",
        "residuals = ydata - f(xdata, *beta_opt)\n",
        "fres = sum(residuals**2)\n",
        "print(fres)\n",
        "\n",
        "fig, ax = plt.subplots()\n",
        "ax.scatter(xdata, ydata)\n",
        "ax.plot(xdata, y, 'r', lw=2)\n",
        "ax.plot(xdata, f(xdata, *beta_opt), 'b', lw=2)\n",
        "ax.set_xlim(0,5)\n",
        "ax.set_xlabel(r'$x$', fontsize=18)\n",
        "ax.set_ylabel(r'$f(x, \\beta)$', fontsize=18)\n",
        "plt.show()"
      ],
      "outputs": [],
      "execution_count": null
    },
    {
      "cell_type": "code",
      "metadata": {
        "jukit_cell_id": "mIYkiowGc0"
      },
      "source": [
        "# 4. $f(x,b) = b_0x^{b_1}$ \n",
        "\n",
        "beta = (-0.12, 1.23)\n",
        "def f(x, b0, b1):\n",
        "    return b0 + np.float_power(x, b1)\n",
        "\n",
        "xdata = np.linspace(0,5,50)\n",
        "y = f(xdata, *beta)\n",
        "ydata = y + 0.05 * np.random.randn(len(xdata))\n",
        "\n",
        "from scipy.optimize import curve_fit\n",
        "beta_opt, beta_cov = curve_fit(f, xdata, ydata)\n",
        "print(beta_opt)\n",
        "\n",
        "lin_dev = sum(beta_cov[0])\n",
        "print(lin_dev)\n",
        "\n",
        "residuals = ydata - f(xdata, *beta_opt)\n",
        "fres = sum(residuals**2)\n",
        "print(fres)\n",
        "\n",
        "fig, ax = plt.subplots()\n",
        "ax.scatter(xdata, ydata)\n",
        "ax.plot(xdata, y, 'r', lw=2)\n",
        "ax.plot(xdata, f(xdata, *beta_opt), 'b', lw=2)\n",
        "ax.set_xlim(0,5)\n",
        "ax.set_xlabel(r'$x$', fontsize=18)\n",
        "ax.set_ylabel(r'$f(x, \\beta)$', fontsize=18)\n",
        "plt.show()"
      ],
      "outputs": [],
      "execution_count": null
    },
    {
      "cell_type": "markdown",
      "metadata": {
        "jukit_cell_id": "H5XiPxMveB"
      },
      "source": [
        "1.3.3 \u0417\u0430\u0434\u0430\u043d\u0438\u0435\n",
        "\u041f\u043e\u0441\u0442\u0440\u043e\u0439\u0442\u0435 \u043c\u043e\u0434\u0435\u043b\u044c \u043c\u043d\u043e\u0436\u0435\u0441\u0442\u0432\u0435\u043d\u043d\u043e\u0439 \u043b\u0438\u043d\u0435\u0439\u043d\u043e\u0439 \u0440\u0435\u0433\u0440\u0435\u0441\u0441\u0438\u0438 \u0434\u043b\u044f \u043f\u0440\u043e\u0438\u0437\u0432\u043e\u043b\u044c\u043d\u044b\u0445\n",
        "\u0434\u0430\u043d\u043d\u044b\u0445 \u0438\u0437 \u043d\u0435\u0441\u043a\u043e\u043b\u044c\u043a\u0438\u0445 \u0441\u0442\u043e\u043b\u0431\u0446\u043e\u0432. \u0414\u043b\u044f \u043f\u0440\u0438\u043c\u0435\u0440\u0430 \u043c\u043e\u0436\u043d\u043e \u0432\u0437\u044f\u0442\u044c \u043f\u043e\u0442\u0440\u0435\u0431\u043b\u0435\u043d\u0438\u044f\n",
        "\u0433\u0430\u0437\u0430 (\u0432 \u043c\u0438\u043b\u043b\u0438\u043e\u043d\u0430\u0445 \u0433\u0430\u043b\u043b\u043e\u043d\u043e\u0432) \u0432 48 \u0448\u0442\u0430\u0442\u0430\u0445 \u0421\u0428\u0410 \u0438\u043b\u0438 \u043d\u0430\u0431\u043e\u0440 \u0434\u0430\u043d\u043d\u044b\u0445 \u043e\n",
        "\u043a\u0430\u0447\u0435\u0441\u0442\u0432\u0435 \u043a\u0440\u0430\u0441\u043d\u043e\u0433\u043e \u0432\u0438\u043d\u0430 (1) \u0438 (2) \u0441\u043e\u043e\u0442\u0432\u0435\u0442\u0441\u0442\u0432\u0435\u043d\u043d\u043e. \u041d\u0430\u0439\u0434\u0438\u0442\u0435 \u043a\u043e\u044d\u0444\u0444\u0438\u0446\u0438\u0435\u043d\u0442\u044b\n",
        "\u043c\u043d\u043e\u0436\u0435\u0441\u0442\u0432\u0435\u043d\u043d\u043e\u0439 \u0440\u0435\u0433\u0440\u0435\u0441\u0441\u0438\u0438. \u041f\u043e\u0441\u0442\u0440\u043e\u0439\u0442\u0435 \u043f\u0440\u043e\u0433\u043d\u043e\u0437. (\u0432\u044b\u0431\u0440\u0430\u043d 1)\n",
        "\n",
        "1.\n",
        "https://raw.githubusercontent.com/likarajo/petrol_consumption/master/data/petrol_consumption.csv"
      ]
    },
    {
      "cell_type": "code",
      "metadata": {
        "jukit_cell_id": "odjmbbCo1Z"
      },
      "source": [
        "import numpy as np\n",
        "import matplotlib.pyplot as plt\n",
        "import pandas as pd\n",
        "import seaborn as seabornInstance\n",
        "from sklearn.model_selection import train_test_split\n",
        "from sklearn.linear_model import LinearRegression\n",
        "from sklearn import metrics\n",
        "\n",
        "url = \"https://raw.githubusercontent.com/likarajo/petrol_consumption/master/data/petrol_consumption.csv\"\n",
        "dataset = pd.DataFrame()\n",
        "dataset = pd.read_csv(url)\n",
        "\n",
        "print(dataset.describe())\n",
        "\n",
        "X = dataset[[ 'Petrol_tax', 'Average_income', 'Paved_Highways', 'Population_Driver_licence(%)' ]]\n",
        "y = dataset['Petrol_Consumption']\n",
        "\n",
        "X_train, X_test, y_train, y_test = train_test_split(X, y, test_size=0.2, random_state=0)\n",
        "\n",
        "regressor = LinearRegression()\n",
        "regressor.fit(X_train, y_train)\n",
        "\n",
        "coeff_df = pd.DataFrame(regressor.coef_, X.columns, columns=['Coefficient'])\n",
        "print(coeff_df)\n",
        "\n",
        "y_pred = regressor.predict(X_test)\n",
        "df = DataFrame({'Actual': y_test, 'Predicted': y_pred})\n",
        "print(df)\n",
        "\n",
        "print('Mean square error: ', metrics.mean_squared_error(y_test,y_pred))"
      ],
      "outputs": [],
      "execution_count": null
    },
    {
      "cell_type": "markdown",
      "metadata": {
        "jukit_cell_id": "j5uEj2vnN6"
      },
      "source": [
        "# \u0417\u0430\u0434\u0430\u043d\u0438\u0435 \u0441\u043e \u0437\u0432\u0435\u0437\u0434\u043e\u0439\n",
        "\u042d\u043a\u0441\u043f\u0435\u0440\u0438\u043c\u0435\u043d\u0442\u0430\u043b\u044c\u043d\u043e \u043f\u043e\u043b\u0443\u0447\u0435\u043d\u044b N \u2212 \u0437\u043d\u0430\u0447\u0435\u043d\u0438\u0439 \u0432\u0435\u043b\u0438\u0447\u0438\u043d\u044b Y \u043f\u0440\u0438\n",
        "\u0440\u0430\u0437\u043b\u0438\u0447\u043d\u044b\u0445 \u0437\u043d\u0430\u0447\u0435\u043d\u0438\u044f\u0445 \u0432\u0435\u043b\u0438\u0447\u0438\u043d\u044b X. \u041f\u043e\u0441\u0442\u0440\u043e\u0438\u0442\u044c \u043f\u043e\u043b\u0438\u043d\u043e\u043c\u044b \u043f\u0435\u0440\u0432\u043e\u0439 \u0438 \u0432\u0442\u043e\u0440\u043e\u0439\n",
        "\u0441\u0442\u0435\u043f\u0435\u043d\u0438, \u0430\u043f\u043f\u0440\u043e\u043a\u0441\u0438\u043c\u0438\u0440\u0443\u044e\u0449\u0438\u0435 \u0440\u0435\u0437\u0443\u043b\u044c\u0442\u0430\u0442\u044b \u044d\u043a\u0441\u043f\u0435\u0440\u0438\u043c\u0435\u043d\u0442\u0430, \u0441 \u043f\u0440\u0438\u043c\u0435\u043d\u0435\u043d\u0438\u0435\u043c\n",
        "\u043c\u0435\u0442\u043e\u0434\u0430 \u043d\u0430\u0438\u043c\u0435\u043d\u044c\u0448\u0438\u0445 \u043a\u0432\u0430\u0434\u0440\u0430\u0442\u043e\u0432. \u0420\u0435\u0437\u0443\u043b\u044c\u0442\u0430\u0442\u044b \u0432\u044b\u0432\u043e\u0434\u044f\u0442\u0441\u044f \u0432 \u0432\u0438\u0434\u0435 \u0442\u0430\u0431\u043b\u0438\u0446\n",
        "\u0437\u043d\u0430\u0447\u0435\u043d\u0438\u0439 \u0438 \u0433\u0440\u0430\u0444\u0438\u043a\u043e\u0432 \u043f\u043e\u043b\u0443\u0447\u0435\u043d\u043d\u044b\u0445 \u043f\u043e\u043b\u0438\u043d\u043e\u043c\u043e\u0432."
      ]
    },
    {
      "cell_type": "code",
      "metadata": {
        "jukit_cell_id": "QqFCrfeAmT"
      },
      "source": [
        "from scipy.optimize import curve_fit\n",
        "linear_func = lambda x, b0, b1: b0 + b1*x\n",
        "quadratic_func = lambda x, b0, b1, b2: b0 + b1*x + b2*x**2\n",
        "\n",
        "xdata = np.linspace(4,5,6)\n",
        "ydata = np.asarray([4.0, 3.0, 6.0, 6.0, 4.0, 4.0])\n",
        "\n",
        "beta_opt, beta_cov = curve_fit(linear_func, xdata, ydata, method='lm')\n",
        "print(beta_opt)\n",
        "df = pd.DataFrame({\"x\": xdata, \"y\": linear_func(xdata, *beta_opt)});\n",
        "#df.columns=['xdata', 'ydata']\n",
        "print(df)\n",
        "\n",
        "fig, ax = plt.subplots()\n",
        "ax.scatter(xdata, ydata)\n",
        "ax.plot(xdata, linear_func(xdata, *beta_opt), 'b', lw=2)\n",
        "ax.set_xlim(3.8,5.2)\n",
        "ax.set_xlabel(r'$x$', fontsize=18)\n",
        "ax.set_ylabel(r'linear', fontsize=18)\n",
        "plt.show()\n",
        "\n",
        "\n",
        "beta_opt, beta_cov = curve_fit(quadratic_func, xdata, ydata, method='lm')\n",
        "print(beta_opt)\n",
        "df = pd.DataFrame({\"x\": xdata, \"y\": quadratic_func(xdata, *beta_opt)});\n",
        "# df.columns=['xdata', 'ydata']\n",
        "print(df)\n",
        "\n",
        "fig, ax = plt.subplots()\n",
        "ax.scatter(xdata, ydata)\n",
        "ax.plot(xdata, quadratic_func(xdata, *beta_opt), 'b', lw=2)\n",
        "ax.set_xlim(3.8,5.2)\n",
        "ax.set_xlabel(r'$x$', fontsize=18)\n",
        "ax.set_ylabel(r'quadratic', fontsize=18)\n",
        "plt.show()"
      ],
      "outputs": [],
      "execution_count": null
    }
  ],
  "metadata": {
    "anaconda-cloud": {},
    "kernelspec": {
      "display_name": "python",
      "language": "python",
      "name": "python3"
    }
  },
  "nbformat": 4,
  "nbformat_minor": 4
}