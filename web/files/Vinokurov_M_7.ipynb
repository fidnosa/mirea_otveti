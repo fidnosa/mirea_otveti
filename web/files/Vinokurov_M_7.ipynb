{
  "cells": [
    {
      "cell_type": "markdown",
      "metadata": {
        "jukit_cell_id": "l4QFWfm7hn"
      },
      "source": [
        "#### \u0417\u0430\u0434\u0430\u043d\u0438\u0435 1.1.3"
      ]
    },
    {
      "cell_type": "code",
      "metadata": {
        "jukit_cell_id": "vfWZb39UnK"
      },
      "source": [
        "import numpy as np\n",
        "\n",
        "def sigmoid(x):\n",
        "    return 1 / (1 + np.exp(-x))\n",
        "\n",
        "def tanh(x):\n",
        "    return np.tan(x)\n",
        "\n",
        "def ReLU(x):\n",
        "    return max(0,x)\n",
        "\n",
        "class Neuron:\n",
        "    def __init__(self, weights, bias):\n",
        "        self.weights = weights\n",
        "        self.bias = bias\n",
        "    def feedforwardSigmoid(self, inputs):\n",
        "        total = np.dot(self.weights, inputs) + self.bias\n",
        "        return sigmoid(total)\n",
        "    def feedforwardTanh(self, inputs):\n",
        "        total = np.dot(self.weights, inputs) + self.bias\n",
        "        return tanh(total)\n",
        "    def feedforwardReLU(self, inputs):\n",
        "        total = np.dot(self.weights, inputs) + self.bias\n",
        "        return ReLU(total)\n",
        "\n",
        "class OurNeuralNetwork1:\n",
        "    def __init__(self):\n",
        "        weights = np.array([0.5, 0.5, 0.5])\n",
        "        bias = 0\n",
        "        self.h1 = Neuron(weights, bias)\n",
        "        self.h2 = Neuron(weights, bias)\n",
        "        self.h3 = Neuron(weights, bias)\n",
        "        self.o1 = Neuron(weights, bias)\n",
        "    def feedforward_1_1(self, x):\n",
        "        out_h1 = self.h1.feedforwardSigmoid(x)\n",
        "        out_h2 = self.h2.feedforwardSigmoid(x)\n",
        "        out_h3 = self.h3.feedforwardSigmoid(x)\n",
        "        out_o1 = self.o1.feedforwardSigmoid(np.array([out_h1, out_h2, out_h3]))\n",
        "        return out_o1\n",
        "    def feedforward_1_2(self, x):\n",
        "        out_h1 = self.h1.feedforwardTanh(x)\n",
        "        out_h2 = self.h2.feedforwardTanh(x)\n",
        "        out_h3 = self.h3.feedforwardTanh(x)\n",
        "        out_o1 = self.o1.feedforwardTanh(np.array([out_h1, out_h2, out_h3]))\n",
        "        return out_o1\n",
        "    def feedforward_1_3(self, x):\n",
        "        out_h1 = self.h1.feedforwardReLU(x)\n",
        "        out_h2 = self.h2.feedforwardReLU(x)\n",
        "        out_h3 = self.h3.feedforwardReLU(x)\n",
        "        out_o1 = self.o1.feedforwardReLU(np.array([out_h1, out_h2, out_h3]))\n",
        "        return out_o1\n",
        "    \n",
        "class OurNeuralNetwork2:\n",
        "    def __init__(self):\n",
        "        weights = np.array([1, 0])\n",
        "        bias = 1\n",
        "        self.h1 = Neuron(weights, bias)\n",
        "        self.h2 = Neuron(weights, bias)\n",
        "        self.o1 = Neuron(weights, bias)\n",
        "        self.o2 = Neuron(weights, bias)\n",
        "    def feedforward_2_1(self, x):\n",
        "        out_h1 = self.h1.feedforwardSigmoid(x)\n",
        "        out_h2 = self.h2.feedforwardSigmoid(x)\n",
        "        out_o1 = self.o1.feedforwardSigmoid(np.array([out_h1, out_h2]))\n",
        "        out_o2 = self.o2.feedforwardSigmoid(np.array([out_h1, out_h2]))\n",
        "        return out_o1, out_o2\n",
        "    def feedforward_2_2(self, x):\n",
        "        out_h1 = self.h1.feedforwardTanh(x)\n",
        "        out_h2 = self.h2.feedforwardTanh(x)\n",
        "        out_o1 = self.o1.feedforwardTanh(np.array([out_h1, out_h2]))\n",
        "        out_o2 = self.o2.feedforwardTanh(np.array([out_h1, out_h2]))\n",
        "        return out_o1, out_o2\n",
        "    def feedforward_2_3(self, x):\n",
        "        out_h1 = self.h1.feedforwardReLU(x)\n",
        "        out_h2 = self.h2.feedforwardReLU(x)\n",
        "        out_o1 = self.o1.feedforwardReLU(np.array([out_h1, out_h2]))\n",
        "        out_o2 = self.o2.feedforwardReLU(np.array([out_h1, out_h2]))\n",
        "        return out_o1, out_o2\n",
        "    \n",
        "network1 = OurNeuralNetwork1()\n",
        "x1 = np.array([1, 2, 3])\n",
        "print('\u0421\u0438\u0433\u043c\u043e\u0438\u0434 \u043f\u0435\u0440\u0432\u043e\u0439 \u043d\u0435\u0439\u0440\u043e\u043d\u043d\u043e\u0439 \u0441\u0435\u0442\u0438: ', network1.feedforward_1_1(x1))\n",
        "print('\u0422\u0430\u043d\u0433\u0435\u043d\u0441 \u043f\u0435\u0440\u0432\u043e\u0439 \u043d\u0435\u0439\u0440\u043e\u043d\u043d\u043e\u0439 \u0441\u0435\u0442\u0438: ', network1.feedforward_1_2(x1))\n",
        "print('ReLU \u043f\u0435\u0440\u0432\u043e\u0439 \u043d\u0435\u0439\u0440\u043e\u043d\u043d\u043e\u0439 \u0441\u0435\u0442\u0438: ', network1.feedforward_1_3(x1))\n",
        "\n",
        "network2 = OurNeuralNetwork2()\n",
        "x2 = np.array([2, 3])\n",
        "print('\u0421\u0438\u0433\u043c\u043e\u0438\u0434 \u043f\u0435\u0440\u0432\u043e\u0439 \u043d\u0435\u0439\u0440\u043e\u043d\u043d\u043e\u0439 \u0441\u0435\u0442\u0438: ', network2.feedforward_2_1(x2))\n",
        "print('\u0422\u0430\u043d\u0433\u0435\u043d\u0441 \u043f\u0435\u0440\u0432\u043e\u0439 \u043d\u0435\u0439\u0440\u043e\u043d\u043d\u043e\u0439 \u0441\u0435\u0442\u0438: ', network2.feedforward_2_2(x2))\n",
        "print('ReLU \u043f\u0435\u0440\u0432\u043e\u0439 \u043d\u0435\u0439\u0440\u043e\u043d\u043d\u043e\u0439 \u0441\u0435\u0442\u0438: ', network2.feedforward_2_3(x2))"
      ],
      "outputs": [
        {
          "output_type": "stream",
          "name": "stdout",
          "text": "\u0421\u0438\u0433\u043c\u043e\u0438\u0434 \u043f\u0435\u0440\u0432\u043e\u0439 \u043d\u0435\u0439\u0440\u043e\u043d\u043d\u043e\u0439 \u0441\u0435\u0442\u0438:  0.8067238139969796\n\u0422\u0430\u043d\u0433\u0435\u043d\u0441 \u043f\u0435\u0440\u0432\u043e\u0439 \u043d\u0435\u0439\u0440\u043e\u043d\u043d\u043e\u0439 \u0441\u0435\u0442\u0438:  -0.21713906537767277\nReLU \u043f\u0435\u0440\u0432\u043e\u0439 \u043d\u0435\u0439\u0440\u043e\u043d\u043d\u043e\u0439 \u0441\u0435\u0442\u0438:  4.5\n\u0421\u0438\u0433\u043c\u043e\u0438\u0434 \u043f\u0435\u0440\u0432\u043e\u0439 \u043d\u0435\u0439\u0440\u043e\u043d\u043d\u043e\u0439 \u0441\u0435\u0442\u0438:  (0.8757270529783324, 0.8757270529783324)\n\u0422\u0430\u043d\u0433\u0435\u043d\u0441 \u043f\u0435\u0440\u0432\u043e\u0439 \u043d\u0435\u0439\u0440\u043e\u043d\u043d\u043e\u0439 \u0441\u0435\u0442\u0438:  (1.1555911185916798, 1.1555911185916798)\nReLU \u043f\u0435\u0440\u0432\u043e\u0439 \u043d\u0435\u0439\u0440\u043e\u043d\u043d\u043e\u0439 \u0441\u0435\u0442\u0438:  (4, 4)\n"
        }
      ],
      "execution_count": 1
    },
    {
      "cell_type": "markdown",
      "metadata": {
        "jukit_cell_id": "M7O6pVoBSm"
      },
      "source": [
        "#### \u0417\u0430\u0434\u0430\u043d\u0438\u0435 1.2.1"
      ]
    },
    {
      "cell_type": "code",
      "metadata": {
        "jukit_cell_id": "FDZfuk6WYu"
      },
      "source": [
        "import numpy as np \n",
        "import pandas as pd \n",
        "import matplotlib.pyplot as plt\n",
        "import sklearn\n",
        "from sklearn.datasets import load_iris\n",
        "from sklearn.model_selection import train_test_split\n",
        "from sklearn.neural_network import MLPClassifier\n",
        "from sklearn.metrics import confusion_matrix\n",
        "from sklearn.neural_network import MLPRegressor\n",
        "\n",
        "iris = load_iris() \n",
        "X_iris, Y_iris = iris.data, iris.target \n",
        "print('\"iris\" Dataset Sizes:', X_iris.shape, Y_iris.shape)\n",
        "\n",
        "X_train, X_test, Y_train, Y_test = train_test_split(X_iris, Y_iris, train_size=0.80, test_size=0.20, stratify=Y_iris, \n",
        "                                                    random_state=123)\n",
        "print('Train/Test Sizes:', X_train.shape, X_test.shape, Y_train.shape, Y_test.shape)\n",
        "\n",
        "mlp_classifier = MLPClassifier(random_state=123, max_iter=1000)\n",
        "mlp_classifier.fit(X_train, Y_train)\n",
        "\n",
        "Y_preds = mlp_classifier.predict(X_test)\n",
        "\n",
        "print(Y_preds[:15]) \n",
        "print(Y_test[:15]) \n",
        "print('Test Accuracy : %.3f'%mlp_classifier.score(X_test, Y_test))\n",
        "print('Training Accuracy : %.3f'%mlp_classifier.score(X_train, Y_train))\n",
        "\n",
        "def plot_confusion_matrix(Y_test, Y_preds):\n",
        "    conf_mat = confusion_matrix(Y_test, Y_preds) \n",
        "    print(conf_mat) \n",
        "    fig = plt.figure(figsize=(3,3)) \n",
        "    plt.matshow(conf_mat, cmap=plt.cm.Blues, fignum=1) \n",
        "    plt.yticks(range(3), range(3)) \n",
        "    plt.xticks(range(3), range(3)) \n",
        "    plt.colorbar(); \n",
        "    for i in range(3):\n",
        "        for j in range(3):\n",
        "            plt.text(i-0.2,j+0.1, str(conf_mat[j, i]), color='tab:red')\n",
        "\n",
        "plot_confusion_matrix(Y_test, mlp_classifier.predict(X_test))\n",
        "print(\"Loss : \", mlp_classifier.loss_) \n",
        "print(\"Number of Coefs : \", len(mlp_classifier.coefs_)) \n",
        "print(\"Number of Intercepts : \", len(mlp_classifier.intercepts_)) \n",
        "print(\"Number of Iterations for Which Estimator Ran : \", mlp_classifier.n_iter_) \n",
        "print(\"Name of Output Layer Activation Function : \",mlp_classifier.out_activation_)"
      ],
      "outputs": [
        {
          "output_type": "stream",
          "name": "stdout",
          "text": "\"iris\" Dataset Sizes: (150, 4) (150,)\nTrain/Test Sizes: (120, 4) (30, 4) (120,) (30,)\n[1 0 2 2 0 0 2 2 2 0 0 1 2 1 2]\n[1 0 2 2 0 0 2 1 2 0 0 1 2 1 2]\nTest Accuracy : 0.933\nTraining Accuracy : 0.992\n[[10  0  0]\n [ 0  8  2]\n [ 0  0 10]]\nLoss :  0.062378386935669564\nNumber of Coefs :  2\nNumber of Intercepts :  2\nNumber of Iterations for Which Estimator Ran :  641\nName of Output Layer Activation Function :  softmax\n"
        },
        {
          "data": {
            "image/png": "[encoded data removed]"
          },
          "metadata": {},
          "output_type": "display_data"
        },
        {
          "output_type": "stream",
          "name": "stdout",
          "text": "\n"
        }
      ],
      "execution_count": 2
    },
    {
      "cell_type": "code",
      "metadata": {
        "jukit_cell_id": "WCzwtA3Nwb"
      },
      "source": [
        "salary = pd.read_csv('https://raw.githubusercontent.com/AnnaShestova/salary-years-simple-linear-regression/master/Salary_Data.csv')\n",
        "\n",
        "X_salary = salary.iloc[:, :-1].values \n",
        "Y_salary = salary.iloc[:, 1].values \n",
        "print('\"salary\" Dataset Sizes:',X_salary.shape, Y_salary.shape)\n",
        "\n",
        "X_train, X_test, Y_train, Y_test = train_test_split(X_salary, Y_salary, train_size=0.80, test_size=0.20, random_state=123) \n",
        "\n",
        "mlp_regressor = MLPRegressor(random_state=123, max_iter=50000) \n",
        "mlp_regressor.fit(X_train, Y_train)\n",
        "\n",
        "Y_preds = mlp_regressor.predict(X_test)\n",
        "\n",
        "print(Y_preds[:10]) \n",
        "print(Y_test[:10]) \n",
        "print('Test R*2 Score : %.3f'%mlp_regressor.score(X_test, Y_test)) \n",
        "print('Training R*2 Score : %.3f'%mlp_regressor.score(X_train, Y_train))\n",
        "print(\"Loss :\", mlp_regressor.loss_)\n",
        "print(\"Number of Coefs : \", len(mlp_regressor.coefs_)) \n",
        "print(\"Number of Iterations for Which Estimator Ran :\", mlp_regressor.n_iter_)\n",
        "print(\"Name of Output Layer Activation Function :\",mlp_regressor.out_activation_)"
      ],
      "outputs": [
        {
          "output_type": "stream",
          "name": "stdout",
          "text": "\"salary\" Dataset Sizes: (30, 1) (30,)\n[ 55265.2045971  126554.5591937   52335.80522199 116782.59147446\n  55265.2045971  117759.05793283]\n[ 54445. 121872.  56642. 116969.  64445. 112635.]\nTest R*2 Score : 0.971\nTraining R*2 Score : 0.948\nLoss : 16873681.68996009\nNumber of Coefs :  2\nNumber of Iterations for Which Estimator Ran : 30344\nName of Output Layer Activation Function : identity\n"
        }
      ],
      "execution_count": 3
    }
  ],
  "metadata": {
    "anaconda-cloud": {},
    "kernelspec": {
      "display_name": "python",
      "language": "python",
      "name": "python3"
    }
  },
  "nbformat": 4,
  "nbformat_minor": 4
}