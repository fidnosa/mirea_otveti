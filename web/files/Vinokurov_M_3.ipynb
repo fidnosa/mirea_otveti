{
  "cells": [
    {
      "cell_type": "markdown",
      "metadata": {
        "jukit_cell_id": "XmkYOkySeV"
      },
      "source": [
        "# 1.3.1 \u0417\u0430\u0434\u0430\u043d\u0438\u0435\n",
        "\u0417\u0430\u0434\u0430\u0439\u0442\u0435 4 \u0442\u043e\u0447\u043a\u0438 \u0432 \u0442\u0440\u0435\u0445\u043c\u0435\u0440\u043d\u043e\u043c \u043f\u0440\u043e\u0441\u0442\u0440\u0430\u043d\u0441\u0442\u0432\u0435, \u0440\u0430\u0441\u0441\u0447\u0438\u0442\u0430\u0439\u0442\u0435 \u043c\u0435\u0436\u0434\u0443 \u043d\u0438\u043c\u0438\n",
        "\u0440\u0430\u0441\u0441\u0442\u043e\u044f\u043d\u0438\u044f \u043f\u043e \u043e\u043f\u0438\u0441\u0430\u043d\u043d\u044b\u043c \u0432 \u043f\u0440\u0438\u043c\u0435\u0440\u0435 \u0432\u044b\u0448\u0435 \u043c\u0435\u0442\u0440\u0438\u043a\u0430\u043c. \u041e\u0442\u043e\u0431\u0440\u0430\u0437\u0438\u0442\u0435 \u0442\u043e\u0447\u043a\u0438\n",
        "\u0432 \u0442\u0440\u0435\u0445\u043c\u0435\u0440\u043d\u043e\u043c \u043f\u0440\u043e\u0441\u0442\u0440\u0430\u043d\u0441\u0442\u0432\u0435."
      ]
    },
    {
      "cell_type": "code",
      "metadata": {
        "jukit_cell_id": "JJ04sZejC4"
      },
      "source": [
        "import numpy as np\n",
        "import matplotlib.pyplot as mpl\n",
        "from mpl_toolkits.mplot3d import Axes3D"
      ],
      "outputs": [],
      "execution_count": null
    },
    {
      "cell_type": "code",
      "metadata": {
        "jukit_cell_id": "DbzLrejX2g"
      },
      "source": [
        "points = np.zeros((4,3))\n",
        "points[0] = np.asarray([1,2,3])\n",
        "points[1] = np.asarray([4,2,2])\n",
        "points[2] = np.asarray([3,8,6])\n",
        "points[3] = np.asarray([7,5,3])\n",
        "print(points)\n",
        "distances = set()\n",
        "\n",
        "for i in range(0,4):\n",
        "    for j in range(0,4):\n",
        "        distances.add(np.abs(np.linalg.norm(points[j]-points[i])))\n",
        "print(\"\u0420\u0430\u0441\u0441\u0442\u043e\u044f\u043d\u0438\u044f \u0415\u0432\u043a\u043b\u0438\u0434\u0430\")\n",
        "print(distances)\n",
        "\n",
        "fig = mpl.figure();\n",
        "ax = fig.add_subplot(111, projection='3d')\n",
        "\n",
        "\n",
        "ax.scatter(*zip(*points))\n",
        "\n",
        "mpl.show()"
      ],
      "outputs": [],
      "execution_count": null
    },
    {
      "cell_type": "markdown",
      "metadata": {
        "jukit_cell_id": "EXzj4IAzKk"
      },
      "source": [
        "# 1.3.2 \u0417\u0430\u0434\u0430\u043d\u0438\u0435 \n",
        "\u0421\u043e\u0437\u0434\u0430\u0442\u044c 5x5 \u043c\u0430\u0442\u0440\u0438\u0446\u0443 \u0441\u043e \u0437\u043d\u0430\u0447\u0435\u043d\u0438\u044f\u043c\u0438 \u0432 \u0441\u0442\u0440\u043e\u043a\u0430\u0445 \u043e\u0442 0 \u0434\u043e 4. \u0414\u043b\u044f \u0441\u043e\u0437\u0434\u0430\u043d\u0438\u044f\n",
        "\u043d\u0435\u043e\u0431\u0445\u043e\u0434\u0438\u043c\u043e \u0438\u0441\u043f\u043e\u043b\u044c\u0437\u043e\u0432\u0430\u0442\u044c \u0444\u0443\u043d\u043a\u0446\u0438\u044e arange."
      ]
    },
    {
      "cell_type": "code",
      "metadata": {
        "jukit_cell_id": "PWMl3s0jlT"
      },
      "source": [
        "Z = np.zeros((5,5))\n",
        "Z += np.arange(5)\n",
        "print(Z)"
      ],
      "outputs": [],
      "execution_count": null
    },
    {
      "cell_type": "markdown",
      "metadata": {
        "jukit_cell_id": "cEOWi2PXTx"
      },
      "source": [
        "# 2.3.1 \u0417\u0430\u0434\u0430\u043d\u0438\u0435\n",
        "\n",
        "\u0414\u043b\u044f \u043f\u0440\u0435\u0434\u044b\u0434\u0443\u0449\u0435\u0433\u043e \u043f\u0440\u0438\u043c\u0435\u0440\u0430 \u043f\u043e\u044d\u043a\u0441\u043f\u0435\u0440\u0438\u043c\u0435\u043d\u0442\u0438\u0440\u0443\u0439\u0442\u0435 \u0441 \u043f\u0430\u0440\u0430\u043c\u0435\u0442\u0440\u0430\u043c\u0438\n",
        "\u043a\u043b\u0430\u0441\u0441\u0438\u0444\u0438\u043a\u0430\u0442\u043e\u0440\u0430:\n",
        "1. \u0423\u0441\u0442\u0430\u043d\u043e\u0432\u0438\u0442\u0435 \u0434\u0440\u0443\u0433\u043e\u0435 \u043a\u043e\u043b\u0438\u0447\u0435\u0441\u0442\u0432\u043e \u0431\u043b\u0438\u0436\u0430\u0439\u0448\u0438\u0445 \u0441\u043e\u0441\u0435\u0434\u0435\u0439 (k = 1, 5, 10).\n",
        "2. \u0423\u0441\u0442\u0430\u043d\u043e\u0432\u0438\u0442\u0435 \u0440\u0430\u0437\u043c\u0435\u0440 \u0442\u0435\u0441\u0442\u043e\u0432\u043e\u0439 \u0432\u044b\u0431\u043e\u0440\u043a\u0438 15% \u043e\u0442 \u0432\u0441\u0435\u0433\u043e \u0434\u0430\u0442\u0430\u0441\u0435\u0442\u0430.\n",
        "3. \u041f\u043e\u0441\u0442\u0440\u043e\u0439\u0442\u0435 \u0433\u0440\u0430\u0444\u0438\u043a\u0438 \u0438 \u043e\u0446\u0435\u043d\u0438\u0442\u0435 \u043a\u0430\u0447\u0435\u0441\u0442\u0432\u043e \u043c\u043e\u0434\u0435\u043b\u0435\u0439, \u043f\u0440\u043e\u0430\u043d\u0430\u043b\u0438\u0437\u0438\u0440\u0443\u0439\u0442\u0435\n",
        "\u0440\u0435\u0437\u0443\u043b\u044c\u0442\u0430\u0442\u044b."
      ]
    },
    {
      "cell_type": "code",
      "metadata": {
        "jukit_cell_id": "aithaTCQ0Z"
      },
      "source": [
        "import seaborn as sns\n",
        "import matplotlib.pyplot as plt\n",
        "\n",
        "iris = sns.load_dataset('iris')\n",
        "plt.figure(figsize=(16,7))\n",
        "plt.subplot(121)\n",
        "sns.scatterplot(data=iris,\n",
        "                x = 'petal_width',\n",
        "                y = 'petal_length',\n",
        "                hue = 'species',\n",
        "                s = 70)\n",
        "plt.xlabel('petal_length, sm')\n",
        "plt.ylabel('petal_width, sm')\n",
        "plt.legend()\n",
        "plt.grid()\n",
        "\n",
        "plt.subplot(122)\n",
        "sns.scatterplot(data=iris,\n",
        "                x = 'sepal_width',\n",
        "                y = 'sepal_length',\n",
        "                hue = 'species',\n",
        "                s = 70)\n",
        "plt.xlabel('sepal_length, sm')\n",
        "plt.ylabel('sepal_width, sm')\n",
        "plt.legend()\n",
        "plt.grid()"
      ],
      "outputs": [],
      "execution_count": null
    },
    {
      "cell_type": "code",
      "metadata": {
        "jukit_cell_id": "SDhPU2z2FJ"
      },
      "source": [
        "from sklearn.model_selection import train_test_split\n",
        "from sklearn.neighbors import KNeighborsClassifier\n",
        "X_train, X_test, y_train, y_test = train_test_split(iris.iloc[:, :-1],\n",
        "                                                    iris.iloc[:, -1],\n",
        "                                                    test_size=0.20)\n",
        "\n",
        "model = KNeighborsClassifier(n_neighbors=3)\n",
        "model.fit(X_train, y_train)\n",
        "\n",
        "y_pred = model.predict(X_test)\n",
        "print(y_pred)\n",
        "\n",
        "plt.figure(figsize=(10,7))\n",
        "sns.scatterplot(data=iris,\n",
        "                x = 'petal_width',\n",
        "                y = 'petal_length',\n",
        "                hue = 'species',\n",
        "                s = 70)\n",
        "\n",
        "plt.xlabel('petal_length, sm')\n",
        "plt.ylabel('petal_width, sm')\n",
        "plt.legend()\n",
        "plt.grid()\n",
        "y_test_prime = np.asarray(y_test)\n",
        "print(str(type(y_test)) + '\\n' + str(type(y_pred)))\n",
        "for i in range(len(y_test)):\n",
        "    if y_test_prime[i] != y_pred[i]:\n",
        "        plt.scatter(X_test.iloc[i, 3], X_test.iloc[i, 2], color='red', s=150)\n",
        "\n",
        "from sklearn.metrics import accuracy_score\n",
        "print(f'accuracy: {accuracy_score(y_test, y_pred) :.3}')"
      ],
      "outputs": [],
      "execution_count": null
    },
    {
      "cell_type": "markdown",
      "metadata": {
        "jukit_cell_id": "8J3nSHzmDw"
      },
      "source": [
        "# 3.3.2 \u0417\u0430\u0434\u0430\u043d\u0438\u0435\n",
        "\u041e\u043f\u0440\u0435\u0434\u0435\u043b\u0438\u0442\u0435 \u043d\u0430\u0431\u043e\u0440 \u043f\u0440\u0438\u0437\u043d\u0430\u043a\u043e\u0432 \u0447\u0435\u043b\u043e\u0432\u0435\u043a\u0430, \u043f\u043e \u0430\u043d\u0430\u043b\u043e\u0433\u0438\u0438 \u0438\u0437 \u0420\u0422 1, \u2013 \u043d\u0430\u043f\u0440\u0438\u043c\u0435\u0440,\n",
        "\u0446\u0432\u0435\u0442 \u0433\u043b\u0430\u0437 \u0438 \u043a\u043e\u043d\u0432\u0435\u0440\u0442\u0438\u0440\u0443\u0439\u0442\u0435 \u0435\u0433\u043e \u0432 \u043c\u0430\u0442\u0440\u0438\u0446\u0443 \u043f\u0440\u0438\u0437\u043d\u0430\u043a\u043e\u0432."
      ]
    },
    {
      "cell_type": "code",
      "metadata": {
        "jukit_cell_id": "O0GXMxtvt8"
      },
      "source": [
        "from sklearn.feature_extraction import DictVectorizer\n",
        "\n",
        "data_dict = [{\"blue\":3, \"brown\":1},\n",
        "             {\"green\":\"male\", \"brown\":0},\n",
        "             {\"blue\":9, \"brown\":\"male\"},\n",
        "             {\"red\":10, \"yellow\":4}]\n",
        "\n",
        "dictvectoriser = DictVectorizer(sparse=False)\n",
        "\n",
        "features = dictvectoriser.fit_transform(data_dict)\n",
        "features"
      ],
      "outputs": [],
      "execution_count": null
    }
  ],
  "metadata": {
    "anaconda-cloud": {},
    "kernelspec": {
      "display_name": "python",
      "language": "python",
      "name": "python3"
    }
  },
  "nbformat": 4,
  "nbformat_minor": 4
}