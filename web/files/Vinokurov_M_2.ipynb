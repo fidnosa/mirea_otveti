{
  "cells": [
    {
      "cell_type": "markdown",
      "metadata": {
        "jukit_cell_id": "5EolCC6Re1"
      },
      "source": [
        "# **NumPy**"
      ]
    },
    {
      "cell_type": "code",
      "metadata": {
        "jukit_cell_id": "iFVHNoNJfX"
      },
      "source": [
        "import numpy as np"
      ],
      "outputs": [],
      "execution_count": null
    },
    {
      "cell_type": "markdown",
      "metadata": {
        "jukit_cell_id": "tn7bNpqSY8"
      },
      "source": [
        "#### 1.3.1 \u0417\u0430\u0434\u0430\u043d\u0438\u0435\n",
        "\u0421\u043e\u0437\u0434\u0430\u0442\u044c 8x8 \u043c\u0430\u0442\u0440\u0438\u0446\u0443 \u0438 \u0437\u0430\u043f\u043e\u043b\u043d\u0438\u0442\u044c \u0435\u0451 \u0432 \u0448\u0430\u0445\u043c\u0430\u0442\u043d\u043e\u043c \u043f\u043e\u0440\u044f\u0434\u043a\u0435 \u043d\u0443\u043b\u044f\u043c\u0438 \u0438\n",
        "\u0435\u0434\u0438\u043d\u0438\u0446\u0430\u043c\u0438."
      ]
    },
    {
      "cell_type": "code",
      "metadata": {
        "jukit_cell_id": "sfKk6O4CqJ"
      },
      "source": [
        "chessboard = np.zeros((8,8))\n",
        "chess_row = list(range(0,8,1))\n",
        "for i in chess_row:\n",
        "    for j in chess_row:\n",
        "        if (i % 2 == 0 and j % 2 == 0) or (i % 2 != 0 and j % 2 != 0):\n",
        "            chessboard[i][j] = 1\n",
        "\n",
        "print(chessboard)"
      ],
      "outputs": [],
      "execution_count": null
    },
    {
      "cell_type": "markdown",
      "metadata": {
        "jukit_cell_id": "dBq2pOeLZj"
      },
      "source": [
        "#### 1.3.2 \u0417\u0430\u0434\u0430\u043d\u0438\u0435\n",
        "\u0421\u043e\u0437\u0434\u0430\u0442\u044c 5x5 \u043c\u0430\u0442\u0440\u0438\u0446\u0443 \u0441\u043e \u0437\u043d\u0430\u0447\u0435\u043d\u0438\u044f\u043c\u0438 \u0432 \u0441\u0442\u0440\u043e\u043a\u0430\u0445 \u043e\u0442 0 \u0434\u043e 4. \u0414\u043b\u044f \u0441\u043e\u0437\u0434\u0430\u043d\u0438\u044f\n",
        "\u043d\u0435\u043e\u0431\u0445\u043e\u0434\u0438\u043c\u043e \u0438\u0441\u043f\u043e\u043b\u044c\u0437\u043e\u0432\u0430\u0442\u044c \u0444\u0443\u043d\u043a\u0446\u0438\u044e arange"
      ]
    },
    {
      "cell_type": "code",
      "metadata": {
        "jukit_cell_id": "f2AqX2g8dO"
      },
      "source": [
        "matrix = np.zeros((5,5))\n",
        "for i in range(0,5):\n",
        "    matrix[i] = np.arange(0,5)\n",
        "\n",
        "print(matrix)"
      ],
      "outputs": [],
      "execution_count": null
    },
    {
      "cell_type": "markdown",
      "metadata": {
        "jukit_cell_id": "gSdsdbm0gE"
      },
      "source": [
        "#### 1.3.3 \u0417\u0430\u0434\u0430\u043d\u0438\u0435\n",
        "\u0421\u043e\u0437\u0434\u0430\u0442\u044c \u043c\u0430\u0441\u0441\u0438\u0432 3x3x3 \u0441\u043e \u0441\u043b\u0443\u0447\u0430\u0439\u043d\u044b\u043c\u0438 \u0437\u043d\u0430\u0447\u0435\u043d\u0438\u044f\u043c\u0438"
      ]
    },
    {
      "cell_type": "code",
      "metadata": {
        "jukit_cell_id": "MZXcrfNQdn"
      },
      "source": [
        "tensor = np.random.random((3,3,3))\n",
        "print(tensor)"
      ],
      "outputs": [],
      "execution_count": null
    },
    {
      "cell_type": "markdown",
      "metadata": {
        "jukit_cell_id": "eOFLnfw11f"
      },
      "source": [
        "#### 1.3.4 \u0417\u0430\u0434\u0430\u043d\u0438\u0435\n",
        "\u0421\u043e\u0437\u0434\u0430\u0442\u044c \u043c\u0430\u0442\u0440\u0438\u0446\u0443 \u0441 0 \u0432\u043d\u0443\u0442\u0440\u0438, \u0438 1 \u043d\u0430 \u0433\u0440\u0430\u043d\u0438\u0446\u0430\u0445."
      ]
    },
    {
      "cell_type": "code",
      "metadata": {
        "jukit_cell_id": "l6uJgmfPJC"
      },
      "source": [
        "frame = np.zeros((8,8))\n",
        "row = list(range(0,8,1))\n",
        "for i in row:\n",
        "    for j in row:\n",
        "        if i == 0 or i == 7 or j == 0 or j == 7:\n",
        "            frame[i][j] = 1\n",
        "\n",
        "print(frame)"
      ],
      "outputs": [],
      "execution_count": null
    },
    {
      "cell_type": "markdown",
      "metadata": {
        "jukit_cell_id": "rgvfqRj89j"
      },
      "source": [
        "#### 1.3.5 \u0417\u0430\u0434\u0430\u043d\u0438\u0435\n",
        "\u0421\u043e\u0437\u0434\u0430\u0439\u0442\u0435 \u043c\u0430\u0441\u0441\u0438\u0432 \u0438 \u043e\u0442\u0441\u043e\u0440\u0442\u0438\u0440\u0443\u0439\u0442\u0435 \u0435\u0433\u043e \u043f\u043e \u0443\u0431\u044b\u0432\u0430\u043d\u0438\u044e."
      ]
    },
    {
      "cell_type": "code",
      "metadata": {
        "jukit_cell_id": "Jm7i8Sh2kz"
      },
      "source": [
        "array = np.random.randint(0,26,size=30)\n",
        "print(array)\n",
        "array = np.sort(array)\n",
        "print(array)\n",
        "array = np.flip(array)\n",
        "print(array)"
      ],
      "outputs": [],
      "execution_count": null
    },
    {
      "cell_type": "markdown",
      "metadata": {
        "jukit_cell_id": "kNJuJqQadB"
      },
      "source": [
        "#### 1.3.6 \u0417\u0430\u0434\u0430\u043d\u0438\u0435\n",
        "\u0421\u043e\u0437\u0434\u0430\u0439\u0442\u0435 \u043c\u0430\u0442\u0440\u0438\u0446\u0443, \u0432\u044b\u0432\u0435\u0434\u0438\u0442\u0435 \u0435\u0435 \u0444\u043e\u0440\u043c\u0443, \u0440\u0430\u0437\u043c\u0435\u0440 \u0438 \u0440\u0430\u0437\u043c\u0435\u0440\u043d\u043e\u0441\u0442\u044c."
      ]
    },
    {
      "cell_type": "code",
      "metadata": {
        "jukit_cell_id": "ve2P1UO9Bk"
      },
      "source": [
        "matrix = np.random.randint(-25, 26, size = (np.random.randint(1, 26), np.random.randint(1, 26)))\n",
        "print(\"\u0424\u043e\u0440\u043c\u0430: \" + str(matrix.shape) + \" \u0420\u0430\u0437\u043c\u0435\u0440: \" + str(matrix.size) + \" \u0420\u0430\u0437\u043c\u0435\u0440\u043d\u043e\u0441\u0442\u044c: \" + str(matrix.ndim) )"
      ],
      "outputs": [],
      "execution_count": null
    },
    {
      "cell_type": "markdown",
      "metadata": {
        "jukit_cell_id": "LnYSOMaq5a"
      },
      "source": [
        "# **Pandas**"
      ]
    },
    {
      "cell_type": "code",
      "metadata": {
        "jukit_cell_id": "92UTBC3Nyv"
      },
      "source": [
        "import pandas as pd"
      ],
      "outputs": [],
      "execution_count": null
    },
    {
      "cell_type": "markdown",
      "metadata": {
        "jukit_cell_id": "15zMV0Pqmp"
      },
      "source": [
        "#### 2.3.1 \u0417\u0430\u0434\u0430\u043d\u0438\u0435\n",
        "\u041d\u0430\u0439\u0434\u0438\u0442\u0435 \u0435\u0432\u043a\u043b\u0438\u0434\u043e\u0432\u043e \u0440\u0430\u0441\u0441\u0442\u043e\u044f\u043d\u0438\u0435 \u043c\u0435\u0436\u0434\u0443 \u0434\u0432\u0443\u043c\u044f Series (\u0442\u043e\u0447\u043a\u0430\u043c\u0438) a \u0438 b, \u043d\u0435\n",
        "\u0438\u0441\u043f\u043e\u043b\u044c\u0437\u0443\u044f \u0432\u0441\u0442\u0440\u043e\u0435\u043d\u043d\u0443\u044e \u0444\u043e\u0440\u043c\u0443\u043b\u0443."
      ]
    },
    {
      "cell_type": "code",
      "metadata": {
        "jukit_cell_id": "2PXj8puc3k"
      },
      "source": [
        "print(\"distance\")\n",
        "points = pd.Series([{'x':123, 'y':456}, {'x':654, 'y':543}])\n",
        "print(points)\n",
        "distance = ((points[1]['x']-points[0]['x'])**2+(points[1]['x']-points[0]['x'])**2)**(1/2)\n",
        "print(distance)"
      ],
      "outputs": [],
      "execution_count": null
    },
    {
      "cell_type": "markdown",
      "metadata": {
        "jukit_cell_id": "J6F2C7fD65"
      },
      "source": [
        "#### 2.3.2 \u0417\u0430\u0434\u0430\u043d\u0438\u0435\n",
        "\n",
        "\u041d\u0430\u0439\u0434\u0438\u0442\u0435 \u0432 \u0418\u043d\u0442\u0435\u0440\u043d\u0435\u0442\u0435 \u0441\u0441\u044b\u043b\u043a\u0443 \u043d\u0430 \u043b\u044e\u0431\u043e\u0439 csv \u0444\u0430\u0439\u043b \u0438 \u0441\u0444\u043e\u0440\u043c\u0438\u0440\u0443\u0439\u0442\u0435 \u0438\u0437 \u043d\u0435\u0433\u043e\n",
        "\u0444\u0440\u0435\u0439\u043c \u0434\u0430\u043d\u043d\u044b\u0445 (\u043d\u0430\u043f\u0440\u0438\u043c\u0435\u0440, \u043a\u043e\u043b\u043b\u0435\u043a\u0446\u0438\u044e \u0444\u0440\u0435\u0439\u043c\u043e\u0432 \u0434\u0430\u043d\u043d\u044b\u0445 \u043c\u043e\u0436\u043d\u043e \u043d\u0430\u0439\u0442\u0438\n",
        "\u0437\u0434\u0435\u0441\u044c: https://github.com/akmand/datasets)."
      ]
    },
    {
      "cell_type": "code",
      "metadata": {
        "jukit_cell_id": "ZuZ89fZbAj"
      },
      "source": [
        "dataframe = pd.DataFrame()\n",
        "url = 'https://raw.githubusercontent.com/akmand/datasets/main/sample_grades.csv'\n",
        "dataframe = pd.read_csv(url)\n",
        "dataframe"
      ],
      "outputs": [],
      "execution_count": null
    },
    {
      "cell_type": "markdown",
      "metadata": {
        "jukit_cell_id": "XDRu1kJ2Eq"
      },
      "source": [
        "#### 2.3.3 \u0417\u0430\u0434\u0430\u043d\u0438\u0435\n",
        "\n",
        "\u041f\u0440\u043e\u0434\u0435\u043b\u0430\u0439\u0442\u0435 \u0441 \u043f\u043e\u043b\u0443\u0447\u0438\u0432\u0448\u0435\u043c\u0441\u044f \u0438\u0437 \u043f\u0440\u0435\u0434\u044b\u0434\u0443\u0449\u0435\u0433\u043e \u0437\u0430\u0434\u0430\u043d\u0438\u044f \u0444\u0440\u0435\u0439\u043c\u043e\u043c \u0434\u0430\u043d\u043d\u044b\u0445\n",
        "\u0442\u0435 \u0436\u0435 \u0434\u0435\u0439\u0441\u0442\u0432\u0438\u044f, \u0447\u0442\u043e \u0438 \u0432 \u043f\u0440\u0438\u043c\u0435\u0440\u0430\u0445 2.2.5-2.2.7."
      ]
    },
    {
      "cell_type": "code",
      "metadata": {
        "jukit_cell_id": "FI98XMDi9j"
      },
      "source": [
        "# 2.2.5\n",
        "dataframe.head(3)"
      ],
      "outputs": [],
      "execution_count": null
    },
    {
      "cell_type": "code",
      "metadata": {
        "jukit_cell_id": "mvO7anhVId"
      },
      "source": [
        "dataframe.describe()"
      ],
      "outputs": [],
      "execution_count": null
    },
    {
      "cell_type": "code",
      "metadata": {
        "jukit_cell_id": "e2moD6kUwO"
      },
      "source": [
        "dataframe.shape"
      ],
      "outputs": [],
      "execution_count": null
    },
    {
      "cell_type": "code",
      "metadata": {
        "jukit_cell_id": "cwvRNhV0YI"
      },
      "source": [
        "# 2.2.6 -- slices\n",
        "dataframe.iloc[2:5]"
      ],
      "outputs": [],
      "execution_count": null
    },
    {
      "cell_type": "code",
      "metadata": {
        "jukit_cell_id": "pKd4O3lSRe"
      },
      "source": [
        "# 2.2.7 -- filter\n",
        "dataframe[dataframe['Grade'] == 'NN']"
      ],
      "outputs": [],
      "execution_count": null
    },
    {
      "cell_type": "markdown",
      "metadata": {
        "jukit_cell_id": "xF49ZhSI8c"
      },
      "source": [
        "# **\u0420\u0430\u0431\u043e\u0442\u0430 \u0441 \u0447\u0438\u0441\u043b\u043e\u0432\u044b\u043c\u0438 \u0434\u0430\u043d\u043d\u044b\u043c\u0438**"
      ]
    },
    {
      "cell_type": "code",
      "metadata": {
        "jukit_cell_id": "zpl5U1So5w"
      },
      "source": [
        "from sklearn import preprocessing as pr"
      ],
      "outputs": [],
      "execution_count": null
    },
    {
      "cell_type": "markdown",
      "metadata": {
        "jukit_cell_id": "U3iMX2Xo8L"
      },
      "source": [
        "#### 3.3.2 \u0417\u0430\u0434\u0430\u043d\u0438\u0435\n",
        "\n",
        "\u0417\u0430\u0433\u0440\u0443\u0437\u0438\u0442\u044c \u0444\u0440\u0435\u0439\u043c \u0434\u0430\u043d\u043d\u044b\u0445 \u043f\u043e \u0441\u0441\u044b\u043b\u043a\u0435:\n",
        "https://raw.githubusercontent.com/akmand/datasets/master/iris.csv.\n",
        "\u041d\u0435\u043e\u0431\u0445\u043e\u0434\u0438\u043c\u043e \u0432\u044b\u043f\u043e\u043b\u043d\u0438\u0442\u044c \u043d\u043e\u0440\u043c\u0430\u043b\u0438\u0437\u0430\u0446\u0438\u044e \u043f\u0435\u0440\u0432\u043e\u0433\u043e \u0447\u0438\u0441\u043b\u043e\u0432\u043e\u0433\u043e \u043f\u0440\u0438\u0437\u043d\u0430\u043a\u0430\n",
        "(sepal_length_cm) \u0441 \u0438\u0441\u043f\u043e\u043b\u044c\u0437\u043e\u0432\u0430\u043d\u0438\u0435\u043c \u043c\u0438\u043d\u0438\u043c\u0430\u043a\u0441\u043d\u043e\u0433\u043e \u043f\u0440\u0435\u043e\u0431\u0440\u0430\u0437\u043e\u0432\u0430\u043d\u0438\u044f, \u0430\n",
        "\u0432\u0442\u043e\u0440\u043e\u0433\u043e (sepal_width_cm) \u0441 \u0437\u0430\u0434\u0435\u0439\u0441\u0442\u0432\u043e\u0432\u0430\u043d\u0438\u0435\u043c z-\u043c\u0430\u0441\u0448\u0442\u0430\u0431\u0438\u0440\u043e\u0432\u0430\u043d\u0438\u044f."
      ]
    },
    {
      "cell_type": "code",
      "metadata": {
        "jukit_cell_id": "uHNBULU9P8"
      },
      "source": [
        "url = 'https://raw.githubusercontent.com/akmand/datasets/master/iris.csv'\n",
        "dataframe = pd.DataFrame()\n",
        "dataframe = pd.read_csv(url)\n",
        "minmax_scale = pr.MinMaxScaler(feature_range = (0,1))\n",
        "z_scale = pr.StandardScaler()\n",
        "\n",
        "scaled_sepal_length = minmax_scale.fit_transform(np.array(dataframe['sepal_length_cm']).reshape(-1,1))\n",
        "\n",
        "scaled_sepal_width = z_scale.fit_transform(np.array(dataframe['sepal_width_cm']).reshape(-1,1))\n",
        "dataframe['sepal_length_cm'] = scaled_sepal_length;\n",
        "dataframe['sepal_width_cm'] = scaled_sepal_width\n",
        "dataframe"
      ],
      "outputs": [],
      "execution_count": null
    }
  ],
  "metadata": {
    "anaconda-cloud": {},
    "kernelspec": {
      "display_name": "python",
      "language": "python",
      "name": "python3"
    }
  },
  "nbformat": 4,
  "nbformat_minor": 4
}