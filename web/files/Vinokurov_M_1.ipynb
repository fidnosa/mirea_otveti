{
  "cells": [
    {
      "cell_type": "markdown",
      "metadata": {
        "jukit_cell_id": "wRpiKHkE2V"
      },
      "source": [
        "1.3 \u0417\u0430\u0434\u0430\u043d\u0438\u0435"
      ]
    },
    {
      "cell_type": "code",
      "metadata": {
        "jukit_cell_id": "zjwjviVhN4"
      },
      "source": [
        "x=3+5.2*7\n",
        "A = {1, 3, 7, 8} \n",
        "B = {2, 4, 5, 10, 'apple'} \n",
        "C = A & B\n",
        "df = '\u0410\u043d\u0442\u043e\u043d\u043e\u0432\u0430 \u0410\u043d\u0442\u043e\u043d\u0438\u043d\u0430', 34, '\u0436'\n",
        "z = 'type'\n",
        "D = [1, 'title', 2, 'content']\n",
        "\n",
        "print(x, '|', type(x), '\\n')\n",
        "print(A, '|', type(A), '\\n')\n",
        "print(B, '|', type(B), '\\n')\n",
        "print(C, '|', type(C), '\\n')\n",
        "print(df, '|', type(df), '\\n')\n",
        "print(z, '|', type(z), '\\n')\n",
        "print(D, '|', type(D), '\\n')"
      ],
      "outputs": [],
      "execution_count": null
    },
    {
      "cell_type": "markdown",
      "metadata": {
        "jukit_cell_id": "B66T0eprA0"
      },
      "source": [
        "2.3 \u0417\u0430\u0434\u0430\u043d\u0438\u0435"
      ]
    },
    {
      "cell_type": "code",
      "metadata": {
        "jukit_cell_id": "0mG1R8ui4C"
      },
      "source": [
        "x = float(input())\n",
        "if x < -5:\n",
        "    print(\"(-infinity, -5)\")\n",
        "elif -5 <= x <= 5:\n",
        "    print(\"[-5, 5]\")\n",
        "else:\n",
        "    print(\"(5, +infinity)\")\n",
        "    "
      ],
      "outputs": [],
      "execution_count": null
    },
    {
      "cell_type": "markdown",
      "metadata": {
        "jukit_cell_id": "uzLYBCm10Q"
      },
      "source": [
        "3.3.1 \u0417\u0430\u0434\u0430\u043d\u0438\u0435"
      ]
    },
    {
      "cell_type": "code",
      "metadata": {
        "jukit_cell_id": "5RXZDzTqaJ"
      },
      "source": [
        "for i in range(10,0,-3):\n",
        "    print(i)"
      ],
      "outputs": [],
      "execution_count": null
    },
    {
      "cell_type": "markdown",
      "metadata": {
        "jukit_cell_id": "hXLAhFP9W6"
      },
      "source": [
        "3.3.2 \u0417\u0430\u0434\u0430\u043d\u0438\u0435"
      ]
    },
    {
      "cell_type": "code",
      "metadata": {
        "jukit_cell_id": "nPrsGSpjWZ"
      },
      "source": [
        "qualities = ['foo', 'bar', 'baz']\n",
        "for quality in qualities:\n",
        "    print(quality)\n",
        "    "
      ],
      "outputs": [],
      "execution_count": null
    },
    {
      "cell_type": "markdown",
      "metadata": {
        "jukit_cell_id": "7oIkzmOU5V"
      },
      "source": [
        "3.3.3 \u0417\u0430\u0434\u0430\u043d\u0438\u0435"
      ]
    },
    {
      "cell_type": "code",
      "metadata": {
        "jukit_cell_id": "gBGuu1BQTj"
      },
      "source": [
        "for i in range(2,16,1):\n",
        "    print(i)"
      ],
      "outputs": [],
      "execution_count": null
    },
    {
      "cell_type": "markdown",
      "metadata": {
        "jukit_cell_id": "XiaBdO5vUG"
      },
      "source": [
        "3.3.4 \u0417\u0430\u0434\u0430\u043d\u0438\u0435"
      ]
    },
    {
      "cell_type": "code",
      "metadata": {
        "jukit_cell_id": "X1gfXI1UPH"
      },
      "source": [
        "for i in range(105,4,-25):\n",
        "    print(i)\n",
        "    "
      ],
      "outputs": [],
      "execution_count": null
    },
    {
      "cell_type": "markdown",
      "metadata": {
        "jukit_cell_id": "dZNqJRGwHP"
      },
      "source": [
        "3.3.5 \u0417\u0430\u0434\u0430\u043d\u0438\u0435"
      ]
    },
    {
      "cell_type": "code",
      "metadata": {
        "jukit_cell_id": "DFpuk15Upj"
      },
      "source": [
        "x = [0,1,2,3,4,5,6,7,8,9]\n",
        "#print(x[0:10:2][::-1]) designing the slices\n",
        "#print(x[1:10:2])\n",
        "result = x #ensuring the same length\n",
        "result[::2] = x[0:10:2][::-1] #assign the reversed evens to all even-numbered indices of result\n",
        "result[1::2] = x[1:10:2] #assign the odds to all odd-numbered indices of result\n",
        "print(result)"
      ],
      "outputs": [],
      "execution_count": null
    },
    {
      "cell_type": "markdown",
      "metadata": {
        "jukit_cell_id": "saMvLplwv7"
      },
      "source": [
        "4.3.1 \u0417\u0430\u0434\u0430\u043d\u0438\u0435"
      ]
    },
    {
      "cell_type": "code",
      "metadata": {
        "jukit_cell_id": "MOmCPHaTiD"
      },
      "source": [
        "import math as m\n",
        "import numpy as np\n",
        "import matplotlib.pyplot as plt\n",
        "\n",
        "array = np.random.random(20)\n",
        "plt.grid()\n",
        "plt.scatter(array, array)\n",
        "plt.show()"
      ],
      "outputs": [],
      "execution_count": null
    },
    {
      "cell_type": "code",
      "metadata": {
        "jukit_cell_id": "pU6rg3tfsq"
      },
      "source": [
        "import math as m\n",
        "import numpy as np\n",
        "import matplotlib.pyplot as plt\n",
        "\n",
        "x = np.arange(1, 11, 1)\n",
        "y = np.sqrt(1+np.exp((np.sqrt(x)))+np.cos(x**2))/np.abs(1-np.sin(x)**3)+np.log(2*x)\n",
        "x_prime = np.arange(1, 6, 1)\n",
        "y_prime =np.sqrt(1+np.exp((np.sqrt(x_prime)))+np.cos(x_prime**2))/np.abs(1-np.sin(x_prime)**3)+np.log(2*x_prime)\n",
        "plt.grid()\n",
        "plt.plot(x,y)\n",
        "plt.scatter(x_prime,y_prime)\n",
        "plt.show()"
      ],
      "outputs": [],
      "execution_count": null
    },
    {
      "cell_type": "code",
      "metadata": {
        "jukit_cell_id": "b3JCHJwRge"
      },
      "source": [
        "import math as m\n",
        "import numpy as np\n",
        "import matplotlib.pyplot as plt\n",
        "import scipy.integrate as si\n",
        "\n",
        "x = np.arange(1, 11, 1)\n",
        "y = np.abs(np.cos(x*np.exp(np.cos(x)+np.log(x+1))))\n",
        "plt.grid()\n",
        "plt.plot(x,y,c=\"r\")\n",
        "plt.fill_between(x,y)\n",
        "\n",
        "area= si.trapezoid(y)\n",
        "print(area)"
      ],
      "outputs": [],
      "execution_count": null
    },
    {
      "cell_type": "markdown",
      "metadata": {
        "jukit_cell_id": "iJXuqPHwmZ"
      },
      "source": [
        "4.3.4 \u0417\u0430\u0434\u0430\u043d\u0438\u0435"
      ]
    },
    {
      "cell_type": "code",
      "metadata": {
        "jukit_cell_id": "AsA3S0eMtT"
      },
      "source": [
        "import yfinance as yf\n",
        "import matplotlib.pyplot as plt\n",
        "import matplotlib.dates as mdates\n",
        "from matplotlib.lines import Line2D\n",
        "\n",
        "msft = yf.Ticker(\"MSFT\")\n",
        "aapl = yf.Ticker(\"AAPL\")\n",
        "goog = yf.Ticker(\"GOOG\")\n",
        "\n",
        "\n",
        "def westerncandlestick(ax, quotes, width=0.2, colorup='k', colordown='r',\n",
        "             ochl=True, linewidth=0.5, westerncolor=True):\n",
        "    \"\"\"\n",
        "    Plot the time, open, high, low, close as a vertical line ranging\n",
        "    from low to high.  Use a rectangular bar to represent the\n",
        "    open-close span.  If close >= open, use colorup to color the bar,\n",
        "    otherwise use colordown\n",
        "    Parameters\n",
        "    ----------\n",
        "    ax : `Axes`\n",
        "        an Axes instance to plot to\n",
        "    quotes : sequence of quote sequences\n",
        "        data to plot.  time must be in float date format - see date2num\n",
        "        (time, open, high, low, close, ...) vs\n",
        "        (time, open, close, high, low, ...)\n",
        "        set by `ochl`\n",
        "    width : float\n",
        "        fraction of a day for the open and close lines\n",
        "    colorup : color\n",
        "        the color of the lines close >= open\n",
        "    colordown : color\n",
        "         the color of the lines where close <  open\n",
        "    ochl: bool\n",
        "        argument to select between ochl and ohlc ordering of quotes\n",
        "    linewidth: float\n",
        "        linewidth of lines\n",
        "    westerncolor: bool\n",
        "        use western cannon colors?\n",
        "    Returns\n",
        "    -------\n",
        "    ret : tuple\n",
        "        returns (lines, openlines, closelines) where lines is a list of lines\n",
        "        added\n",
        "    \"\"\"\n",
        "    OFFSET = width / 2.0\n",
        "    lines = []\n",
        "    openlines = []\n",
        "    closelines = []\n",
        "    for q in quotes.reset_index().values:\n",
        "        if ochl:\n",
        "            t, open, close, high, low = q[:5]\n",
        "            t = mdates.date2num(t)\n",
        "            #t = t.strftime('%Y-%m-%d')\n",
        "        else:\n",
        "            t, open, high, low, close = q[:5]\n",
        "            t = mdates.date2num(t)\n",
        "        if westerncolor:\n",
        "            try:\n",
        "                close_\n",
        "            except NameError:\n",
        "                close_ = close\n",
        "\n",
        "            if close >= close_:\n",
        "                color = colorup\n",
        "            else:\n",
        "                color = colordown\n",
        "            close_ = close\n",
        "        else:\n",
        "            if close >= open:\n",
        "                color = colorup\n",
        "            else:\n",
        "                color = colordown\n",
        "\n",
        "        vline = Line2D( xdata=(t, t), ydata=(low, high),\n",
        "            color=color, linewidth=linewidth, antialiased=True)\n",
        "        lines.append(vline)\n",
        "\n",
        "        openline = Line2D(xdata=(t - OFFSET, t), ydata=(open,open),\n",
        "                          color=color, linewidth=linewidth, antialiased=True)\n",
        "        openlines.append(openline)\n",
        "\n",
        "        closeline = Line2D(xdata=(t , t+OFFSET), ydata=(close,close),\n",
        "                          color=color, linewidth=linewidth, antialiased=True)\n",
        "        closelines.append(closeline)\n",
        "\n",
        "        ax.add_line(vline)\n",
        "        ax.add_line(openline)\n",
        "        ax.add_line(closeline)\n",
        "\n",
        "    ax.autoscale_view()\n",
        "\n",
        "    return lines, openlines, closelines\n",
        "\n",
        "\n",
        "from matplotlib.dates import DateFormatter, WeekdayLocator,\\\n",
        "    DayLocator, MONDAY\n",
        "# (Year, month, day) tuples suffice as args for quotes_historical_yahoo\n",
        "date1 = '2021-01-01'\n",
        "date2 = '2021-12-31'\n",
        "\n",
        "mondays = WeekdayLocator(MONDAY)        # major ticks on the mondays\n",
        "alldays = DayLocator()              # minor ticks on the days\n",
        "weekFormatter = DateFormatter('%b %d')  # e.g., Jan 12\n",
        "dayFormatter = DateFormatter('%d')      # e.g., 12\n",
        "\n",
        "quotes = yf.download('MSFT', start= date1, end= date2)\n",
        "quotes2 = yf.download('AAPL', start= date1, end= date2)\n",
        "quotes3 = yf.download('GOOG', start= date1, end= date2)\n",
        "\n",
        "if len(quotes) == 0:\n",
        "    raise SystemExit\n",
        "\n",
        "fig, ax = plt.subplots()\n",
        "fig1, ax1 = plt.subplots()\n",
        "fig2, ax2 = plt.subplots()\n",
        "\n",
        "fig.subplots_adjust(bottom=0.01)\n",
        "fig1.subplots_adjust(bottom=0.01)\n",
        "fig2.subplots_adjust(bottom=0.01)\n",
        "\n",
        "ax.xaxis.set_major_locator(mondays)\n",
        "ax.xaxis.set_minor_locator(alldays)\n",
        "ax.xaxis.set_major_formatter(weekFormatter)\n",
        "\n",
        "ax1.xaxis.set_major_locator(mondays)\n",
        "ax1.xaxis.set_minor_locator(alldays)\n",
        "ax1.xaxis.set_major_formatter(weekFormatter)\n",
        "\n",
        "ax2.xaxis.set_major_locator(mondays)\n",
        "ax2.xaxis.set_minor_locator(alldays)\n",
        "ax2.xaxis.set_major_formatter(weekFormatter)\n",
        "\n",
        "westerncandlestick(ax, quotes, width=1.0, linewidth=1.44, ochl=False, westerncolor=True)\n",
        "westerncandlestick(ax1, quotes, width=1.0, linewidth=1.44, ochl=False, westerncolor=True)\n",
        "westerncandlestick(ax2, quotes, width=1.0, linewidth=1.44, ochl=False, westerncolor=True)\n",
        "\n",
        "ax.xaxis_date()\n",
        "ax.autoscale_view()\n",
        "ax1.xaxis_date()\n",
        "ax1.autoscale_view()\n",
        "ax2.xaxis_date()\n",
        "ax2.autoscale_view()\n",
        "\n",
        "plt.setp(plt.gca().get_xticklabels(), rotation=45, horizontalalignment='right')\n",
        "\n",
        "\n",
        "plt.show()"
      ],
      "outputs": [],
      "execution_count": null
    },
    {
      "cell_type": "markdown",
      "metadata": {
        "jukit_cell_id": "i3sEWaKciD"
      },
      "source": [
        "4.3.5 \u0417\u0430\u0434\u0430\u043d\u0438\u0435"
      ]
    },
    {
      "cell_type": "code",
      "metadata": {
        "jukit_cell_id": "WkbQ5bgY97"
      },
      "source": [
        "import numexpr\n",
        "\n",
        "\n",
        "def calculator():\n",
        "    calc_string = str(input())\n",
        "    try:\n",
        "        print(numexpr.evaluate(calc_string))\n",
        "    except RuntimeWarning:\n",
        "        print(\"Error\")\n",
        "    except ZeroDivisionError:\n",
        "        print(\"Error\")\n",
        "\n",
        "\n",
        "calculator()"
      ],
      "outputs": [],
      "execution_count": null
    },
    {
      "cell_type": "code",
      "metadata": {
        "jukit_cell_id": "utIjQVPIE6"
      },
      "source": [],
      "outputs": [],
      "execution_count": null
    }
  ],
  "metadata": {
    "anaconda-cloud": {},
    "kernelspec": {
      "display_name": "python",
      "language": "python",
      "name": "python3"
    }
  },
  "nbformat": 4,
  "nbformat_minor": 4
}